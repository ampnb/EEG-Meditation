{
  "nbformat": 4,
  "nbformat_minor": 0,
  "metadata": {
    "colab": {
      "provenance": [],
      "machine_shape": "hm",
      "gpuType": "A100",
      "authorship_tag": "ABX9TyNdWKbnDdMrdYGnkgv5CVbe",
      "include_colab_link": true
    },
    "kernelspec": {
      "name": "python3",
      "display_name": "Python 3"
    },
    "language_info": {
      "name": "python"
    },
    "accelerator": "GPU"
  },
  "cells": [
    {
      "cell_type": "markdown",
      "metadata": {
        "id": "view-in-github",
        "colab_type": "text"
      },
      "source": [
        "<a href=\"https://colab.research.google.com/github/ampnb/eeg-meditation/blob/main/eeg_group_Morlet_wavelet_transform_10m.ipynb\" target=\"_parent\"><img src=\"https://colab.research.google.com/assets/colab-badge.svg\" alt=\"Open In Colab\"/></a>"
      ]
    },
    {
      "cell_type": "code",
      "source": [
        "!gdown --id 1tf3y7AsGztdlYR07QJM_2bQXm9OTqkCg"
      ],
      "metadata": {
        "id": "fMKIjlmIhOkT"
      },
      "execution_count": null,
      "outputs": []
    },
    {
      "cell_type": "code",
      "source": [
        "!gdown --id 1nW4sTz3Y4L6zUAS6yM8QogN2Y4XjXBDj"
      ],
      "metadata": {
        "id": "5_VbuA9KfTz6"
      },
      "execution_count": null,
      "outputs": []
    },
    {
      "cell_type": "code",
      "source": [
        "!unzip -o sunday-meditator.zip"
      ],
      "metadata": {
        "id": "zqdn0oL223AC"
      },
      "execution_count": null,
      "outputs": []
    },
    {
      "cell_type": "code",
      "source": [
        "!unzip -o sunday-non-meditator.zip"
      ],
      "metadata": {
        "id": "MIceNhpmhX-z"
      },
      "execution_count": null,
      "outputs": []
    },
    {
      "cell_type": "code",
      "source": [
        "!unzip -o sunday-meditator.zip"
      ],
      "metadata": {
        "id": "1UeyebZEfy62"
      },
      "execution_count": null,
      "outputs": []
    },
    {
      "cell_type": "code",
      "source": [
        "!pip install -U mne"
      ],
      "metadata": {
        "id": "tOYjvz27xyO_"
      },
      "execution_count": null,
      "outputs": []
    },
    {
      "cell_type": "code",
      "source": [
        "pip install mne"
      ],
      "metadata": {
        "id": "L1Us9sqqgDtL"
      },
      "execution_count": null,
      "outputs": []
    },
    {
      "cell_type": "code",
      "source": [
        "import mne\n",
        "import numpy as np\n",
        "import os\n",
        "from scipy.stats import ttest_ind\n",
        "import matplotlib.pyplot as plt"
      ],
      "metadata": {
        "id": "NQ1wiIEhgEJ_"
      },
      "execution_count": 12,
      "outputs": []
    },
    {
      "cell_type": "code",
      "source": [
        "meditator_data_path = '/content/sunday-meditator'\n",
        "non_meditator_data_path = '/content/sunday-non-meditator'"
      ],
      "metadata": {
        "id": "Zk1wWpgExNlr"
      },
      "execution_count": 16,
      "outputs": []
    },
    {
      "cell_type": "markdown",
      "source": [
        "# I apply the Morlet wavelet transform within the specified frequency ranges, and calculates the mean power for each band"
      ],
      "metadata": {
        "id": "YhOl5Vdr-jyF"
      }
    },
    {
      "cell_type": "code",
      "source": [
        "# Define frequency bands\n",
        "frequency_bands = {'Delta': (1, 4), 'Theta': (4, 8), 'Alpha': (8, 12), 'Beta': (13, 30), 'Gamma': (30, 40)}\n",
        "\n",
        "def load_and_create_epochs(data_path, epoch_length=60, overlap=0):\n",
        "    \"\"\"\n",
        "    Load EEG data, create epochs, and return a list of Epochs objects for all files in the directory.\n",
        "    \"\"\"\n",
        "    epochs_list = []\n",
        "    for file_name in sorted(os.listdir(data_path)):\n",
        "        if file_name.endswith('.fif'):\n",
        "            file_path = os.path.join(data_path, file_name)\n",
        "            raw = mne.io.read_raw_fif(file_path, preload=True)\n",
        "            events = mne.make_fixed_length_events(raw, duration=epoch_length-overlap)\n",
        "            epochs = mne.Epochs(raw, events, tmin=0, tmax=epoch_length-1/raw.info['sfreq'], baseline=None, preload=True)\n",
        "            epochs_list.append(epochs)\n",
        "    return epochs_list\n",
        "\n",
        "def calculate_average_band_power(epochs_list, frequency_bands):\n",
        "    \"\"\"\n",
        "    Calculate average band power for each frequency band across all epochs and return a dictionary.\n",
        "    \"\"\"\n",
        "    band_powers = {band: [] for band in frequency_bands}\n",
        "    for epochs in epochs_list:\n",
        "        for band, (fmin, fmax) in frequency_bands.items():\n",
        "            power = mne.time_frequency.tfr_morlet(epochs, freqs=np.linspace(fmin, fmax, 20), n_cycles=2, return_itc=False, average=True, decim=3)\n",
        "            band_power = power.data.mean(axis=2).mean(axis=0)  # Average across time and epochs\n",
        "            band_powers[band].append(band_power)\n",
        "    return band_powers\n",
        "\n",
        "def plot_band_powers(band_powers_meditator, band_powers_non_meditator, frequency_bands):\n",
        "    \"\"\"\n",
        "    Plot the average band power for meditators vs non-meditators.\n",
        "    \"\"\"\n",
        "    fig, axs = plt.subplots(len(frequency_bands), 1, figsize=(10, 15), sharex=True)\n",
        "    if len(frequency_bands) == 1:  # Ensure axs is iterable\n",
        "        axs = [axs]\n",
        "\n",
        "    for ax, band in zip(axs, frequency_bands):\n",
        "        med_mean = np.mean([np.mean(power) for power in band_powers_meditator[band]])\n",
        "        non_med_mean = np.mean([np.mean(power) for power in band_powers_non_meditator[band]])\n",
        "        med_std = np.std([np.mean(power) for power in band_powers_meditator[band]])\n",
        "        non_med_std = np.std([np.mean(power) for power in band_powers_non_meditator[band]])\n",
        "\n",
        "        ax.bar('Meditator', med_mean, yerr=med_std, capsize=5)\n",
        "        ax.bar('Non-Meditator', non_med_mean, yerr=non_med_std, capsize=5)\n",
        "        ax.set_title(f'{band} Band Power')\n",
        "        ax.set_ylabel('Power')\n",
        "\n",
        "    plt.tight_layout()\n",
        "    plt.show()\n",
        "\n",
        "# Load and create epochs\n",
        "epochs_meditator = load_and_create_epochs(meditator_data_path, epoch_length=60)\n",
        "epochs_non_meditator = load_and_create_epochs(non_meditator_data_path, epoch_length=60)\n",
        "\n",
        "# Calculate average band power\n",
        "band_powers_meditator = calculate_average_band_power(epochs_meditator, frequency_bands)\n",
        "band_powers_non_meditator = calculate_average_band_power(epochs_non_meditator, frequency_bands)\n",
        "\n",
        "# Plotting\n",
        "plot_band_powers(band_powers_meditator, band_powers_non_meditator, frequency_bands)"
      ],
      "metadata": {
        "id": "px15o7IfpnCw"
      },
      "execution_count": null,
      "outputs": []
    },
    {
      "cell_type": "code",
      "source": [
        "from scipy.stats import ttest_ind\n",
        "\n",
        "def print_statistical_summary(band_powers_meditator, band_powers_non_meditator, frequency_bands):\n",
        "    \"\"\"\n",
        "    Perform t-tests for each frequency band and print a summary of the results.\n",
        "    \"\"\"\n",
        "    print(\"Statistical Summary of Band Powers Between Meditators and Non-Meditators:\\n\")\n",
        "\n",
        "    for band in frequency_bands:\n",
        "        # Flatten the list of band powers for all segments for each group\n",
        "        med_powers = [power for segment_powers in band_powers_meditator[band] for power in segment_powers]\n",
        "        non_med_powers = [power for segment_powers in band_powers_non_meditator[band] for power in segment_powers]\n",
        "\n",
        "        # Perform t-test\n",
        "        t_stat, p_val = ttest_ind(med_powers, non_med_powers)\n",
        "        significance = \"Significant\" if p_val < 0.05 else \"Not Significant\"\n",
        "\n",
        "        print(f\"{band} Band: t={t_stat:.2f}, p={p_val:.4f} ({significance})\")\n",
        "\n",
        "\n",
        "print_statistical_summary(band_powers_meditator, band_powers_non_meditator, frequency_bands)\n"
      ],
      "metadata": {
        "colab": {
          "base_uri": "https://localhost:8080/"
        },
        "id": "1PHrELiyriBg",
        "outputId": "322abeb7-4f55-4dc6-f3a0-6e1306e7069e"
      },
      "execution_count": 20,
      "outputs": [
        {
          "output_type": "stream",
          "name": "stdout",
          "text": [
            "Statistical Summary of Band Powers Between Meditators and Non-Meditators:\n",
            "\n",
            "Delta Band: t=1.12, p=0.2624 (Not Significant)\n",
            "Theta Band: t=2.01, p=0.0455 (Significant)\n",
            "Alpha Band: t=2.25, p=0.0248 (Significant)\n",
            "Beta Band: t=1.12, p=0.2639 (Not Significant)\n",
            "Gamma Band: t=1.73, p=0.0843 (Not Significant)\n"
          ]
        }
      ]
    },
    {
      "cell_type": "code",
      "source": [],
      "metadata": {
        "id": "pDi5PHTO4Dsv"
      },
      "execution_count": null,
      "outputs": []
    }
  ]
}