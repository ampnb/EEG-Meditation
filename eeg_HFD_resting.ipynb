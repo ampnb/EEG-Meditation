{
  "nbformat": 4,
  "nbformat_minor": 0,
  "metadata": {
    "colab": {
      "provenance": [],
      "machine_shape": "hm",
      "authorship_tag": "ABX9TyNj1/qrQtsouK5RC72+G27A"
    },
    "kernelspec": {
      "name": "python3",
      "display_name": "Python 3"
    },
    "language_info": {
      "name": "python"
    }
  },
  "cells": [
    {
      "cell_type": "code",
      "source": [
        "!gdown --id 1-BuoaHfAHasrSf7mb10N21brUI86rGxs"
      ],
      "metadata": {
        "id": "fMKIjlmIhOkT"
      },
      "execution_count": null,
      "outputs": []
    },
    {
      "cell_type": "code",
      "source": [
        "!gdown --id 1nuNgS5I2GJpt3KUZQDBOXvZalkMi5krS"
      ],
      "metadata": {
        "id": "5_VbuA9KfTz6"
      },
      "execution_count": null,
      "outputs": []
    },
    {
      "cell_type": "code",
      "source": [
        "!unzip -o resting-meditators2.zip"
      ],
      "metadata": {
        "id": "zqdn0oL223AC"
      },
      "execution_count": null,
      "outputs": []
    },
    {
      "cell_type": "code",
      "source": [
        "!unzip -o resting-novices.zip"
      ],
      "metadata": {
        "id": "MIceNhpmhX-z"
      },
      "execution_count": null,
      "outputs": []
    },
    {
      "cell_type": "code",
      "source": [
        "!pip install -U mne"
      ],
      "metadata": {
        "id": "tOYjvz27xyO_"
      },
      "execution_count": null,
      "outputs": []
    },
    {
      "cell_type": "code",
      "source": [
        "import mne\n",
        "import numpy as np\n",
        "import os\n",
        "from scipy.signal import hilbert\n",
        "from scipy.stats import ttest_ind\n",
        "import matplotlib.pyplot as plt"
      ],
      "metadata": {
        "id": "NQ1wiIEhgEJ_"
      },
      "execution_count": 44,
      "outputs": []
    },
    {
      "cell_type": "code",
      "source": [
        "# Define paths\n",
        "meditators_dir = '/content/resting-meditators2'\n",
        "novices_dir = '/content/resting-novices'\n",
        "sfreq = 250"
      ],
      "metadata": {
        "id": "26XvXUdL3PpN"
      },
      "execution_count": 45,
      "outputs": []
    },
    {
      "cell_type": "code",
      "source": [
        "def load_and_prepare_data(directory, montage, notch_freq):\n",
        "    raws = []\n",
        "    # Load data\n",
        "    for filename in os.listdir(directory):\n",
        "        if filename.endswith('.fif'):\n",
        "            path = os.path.join(directory, filename)\n",
        "            raw = mne.io.read_raw_fif(path, preload=True)\n",
        "            raw.notch_filter(notch_freq, filter_length='auto', phase='zero')\n",
        "            raw.filter(0.5, 45)\n",
        "            raw.crop(tmin=30, tmax=115)\n",
        "            raw.set_montage(montage)\n",
        "            raws.append(raw)\n",
        "    return raws\n",
        "\n",
        "# Create the standard 10-20 montage\n",
        "montage = mne.channels.make_standard_montage('standard_1020')"
      ],
      "metadata": {
        "id": "slcsmn52FZm3"
      },
      "execution_count": 46,
      "outputs": []
    },
    {
      "cell_type": "code",
      "source": [
        "# Process the meditators and novices data\n",
        "meditators_raws = load_and_prepare_data(meditators_dir, montage, 50)\n",
        "novices_raws = load_and_prepare_data(novices_dir, montage, 50)"
      ],
      "metadata": {
        "id": "8z1UFR0cFZp4"
      },
      "execution_count": null,
      "outputs": []
    },
    {
      "cell_type": "code",
      "source": [
        "# raw = meditators_raws[0]"
      ],
      "metadata": {
        "id": "ZjAILTODFZso"
      },
      "execution_count": 48,
      "outputs": []
    },
    {
      "cell_type": "code",
      "source": [
        "# fig = raw.compute_psd().plot_topomap(ch_type='eeg', normalize=True)"
      ],
      "metadata": {
        "id": "bGlDCYTPFZvc"
      },
      "execution_count": 49,
      "outputs": []
    },
    {
      "cell_type": "code",
      "source": [
        "# _ = raw.compute_psd().plot()"
      ],
      "metadata": {
        "id": "bIpVrztlFZyy"
      },
      "execution_count": 50,
      "outputs": []
    },
    {
      "cell_type": "code",
      "source": [
        "# _ = raw.plot()"
      ],
      "metadata": {
        "id": "kheqpZqrFZ1_"
      },
      "execution_count": 51,
      "outputs": []
    },
    {
      "cell_type": "code",
      "source": [
        "# raw.describe()"
      ],
      "metadata": {
        "id": "O_Fo5dkGFZ7n"
      },
      "execution_count": 52,
      "outputs": []
    },
    {
      "cell_type": "code",
      "source": [
        "# raw"
      ],
      "metadata": {
        "id": "gm3YgCgSHI2W"
      },
      "execution_count": 53,
      "outputs": []
    },
    {
      "cell_type": "markdown",
      "source": [
        "# EEG complexity (HFD)"
      ],
      "metadata": {
        "id": "oGhBC9H8T3bk"
      }
    },
    {
      "cell_type": "markdown",
      "source": [
        "Step 1: Calculate Complexity Measures for Both Groups"
      ],
      "metadata": {
        "id": "8UPI7VXyWH4I"
      }
    },
    {
      "cell_type": "code",
      "source": [
        "!pip install hfda"
      ],
      "metadata": {
        "id": "YNo1-O49GwHJ",
        "colab": {
          "base_uri": "https://localhost:8080/"
        },
        "outputId": "f1f13c3a-f190-4245-f200-0cbafa410f92"
      },
      "execution_count": 54,
      "outputs": [
        {
          "output_type": "stream",
          "name": "stdout",
          "text": [
            "Requirement already satisfied: hfda in /usr/local/lib/python3.10/dist-packages (0.1.1)\n",
            "Requirement already satisfied: numpy in /usr/local/lib/python3.10/dist-packages (from hfda) (1.25.2)\n"
          ]
        }
      ]
    },
    {
      "cell_type": "markdown",
      "source": [],
      "metadata": {
        "id": "iaHvcQjMW4-2"
      }
    },
    {
      "cell_type": "code",
      "source": [
        "import hfda\n",
        "\n",
        "def calculate_hfd_with_hfda(raws, k_max=5):\n",
        "    \"\"\"\n",
        "    Calculate the average Higuchi Fractal Dimension (HFD) for each EEG recording using hfda library.\n",
        "\n",
        "    Parameters:\n",
        "    - raws: list of mne.io.Raw objects.\n",
        "    - k_max: The max number of intervals for the HFD calculation, similar to Kmax in the previous approach.\n",
        "\n",
        "    Returns:\n",
        "    - A list of average HFD values, one per recording.\n",
        "    \"\"\"\n",
        "    hfd_values = []\n",
        "    for raw in raws:\n",
        "        data = raw.get_data()\n",
        "        # Calculate HFD for each channel and then average\n",
        "        channel_hfds = [hfda.measure(data[i], k_max) for i in range(data.shape[0])]\n",
        "        hfd_values.append(np.mean(channel_hfds))\n",
        "    return hfd_values"
      ],
      "metadata": {
        "id": "zcaOA4cdWaHz"
      },
      "execution_count": 55,
      "outputs": []
    },
    {
      "cell_type": "code",
      "source": [
        "meditators_hfd = calculate_hfd_with_hfda(meditators_raws, k_max=5)\n",
        "novices_hfd = calculate_hfd_with_hfda(novices_raws, k_max=5)"
      ],
      "metadata": {
        "id": "ssuZCCMAWaK6"
      },
      "execution_count": 56,
      "outputs": []
    },
    {
      "cell_type": "code",
      "source": [
        "from scipy.stats import mannwhitneyu\n",
        "\n",
        "# Perform Mann-Whitney U Test\n",
        "stat, p = mannwhitneyu(meditators_hfd, novices_hfd)\n",
        "\n",
        "# Print the test results\n",
        "print(f'Mann-Whitney U Statistic: {stat}, P-value: {p}')\n",
        "\n",
        "# Check if the result is significant\n",
        "alpha = 0.05\n",
        "\n",
        "if p < alpha:\n",
        "    print(\"The difference between meditators and novices is statistically significant.\")\n",
        "else:\n",
        "    print(\"The difference between meditators and novices is not statistically significant.\")\n",
        "\n"
      ],
      "metadata": {
        "id": "kBY23_ecWaOH",
        "colab": {
          "base_uri": "https://localhost:8080/"
        },
        "outputId": "493fb923-6e81-45f0-8f91-b04511a8f7ea"
      },
      "execution_count": 57,
      "outputs": [
        {
          "output_type": "stream",
          "name": "stdout",
          "text": [
            "Mann-Whitney U Statistic: 67.0, P-value: 0.21229383619233155\n",
            "The difference between meditators and novices is not statistically significant.\n"
          ]
        }
      ]
    },
    {
      "cell_type": "code",
      "source": [
        "import matplotlib.pyplot as plt\n",
        "import seaborn as sns\n",
        "import pandas as pd\n",
        "\n",
        "# Combine HFD values into a single dataset for plotting\n",
        "hfd_values = np.concatenate((meditators_hfd, novices_hfd))\n",
        "groups = ['Meditator'] * len(meditators_hfd) + ['Novice'] * len(novices_hfd)\n",
        "\n",
        "data_df = pd.DataFrame({'Group': groups, 'HFD': hfd_values})\n",
        "\n",
        "# Box plot\n",
        "sns.boxplot(x='Group', y='HFD', data=data_df)\n",
        "plt.title('HFD Values for Meditators and Novices')\n",
        "plt.show()\n"
      ],
      "metadata": {
        "id": "EZwrDZeqWaRE",
        "colab": {
          "base_uri": "https://localhost:8080/",
          "height": 472
        },
        "outputId": "c8473ecc-1da0-4b2b-cd18-cf3c5377490a"
      },
      "execution_count": 58,
      "outputs": [
        {
          "output_type": "display_data",
          "data": {
            "text/plain": [
              "<Figure size 640x480 with 1 Axes>"
            ],
            "image/png": "[encoded data removed]"
          },
          "metadata": {}
        }
      ]
    },
    {
      "cell_type": "code",
      "source": [
        "# Histogram\n",
        "plt.hist(meditators_hfd, alpha=0.5, label='Meditators')\n",
        "plt.hist(novices_hfd, alpha=0.5, label='Novices')\n",
        "plt.title('Distribution of HFD Values')\n",
        "plt.xlabel('HFD')\n",
        "plt.ylabel('Frequency')\n",
        "plt.legend()\n",
        "plt.show()\n"
      ],
      "metadata": {
        "id": "CfTvUIHXWaUD",
        "colab": {
          "base_uri": "https://localhost:8080/",
          "height": 472
        },
        "outputId": "3c7fc726-4e40-4ee8-e8a2-a9a8e6d8991a"
      },
      "execution_count": 59,
      "outputs": [
        {
          "output_type": "display_data",
          "data": {
            "text/plain": [
              "<Figure size 640x480 with 1 Axes>"
            ],
            "image/png": "[encoded data removed]"
          },
          "metadata": {}
        }
      ]
    },
    {
      "cell_type": "code",
      "source": [
        "sns.boxplot(x='Group', y='HFD', data=data_df, palette=\"Set2\")\n",
        "sns.swarmplot(x='Group', y='HFD', data=data_df, color=\".25\")\n",
        "plt.title('HFD Values for Meditators and Novices')\n",
        "plt.show()\n"
      ],
      "metadata": {
        "id": "oOlfFEUiWaXO",
        "colab": {
          "base_uri": "https://localhost:8080/",
          "height": 579
        },
        "outputId": "0fd22c39-96b4-4c82-dea9-7890dfb6018d"
      },
      "execution_count": 60,
      "outputs": [
        {
          "output_type": "stream",
          "name": "stderr",
          "text": [
            "<ipython-input-60-43cc6fa9dc3c>:1: FutureWarning: \n",
            "\n",
            "Passing `palette` without assigning `hue` is deprecated and will be removed in v0.14.0. Assign the `x` variable to `hue` and set `legend=False` for the same effect.\n",
            "\n",
            "  sns.boxplot(x='Group', y='HFD', data=data_df, palette=\"Set2\")\n"
          ]
        },
        {
          "output_type": "display_data",
          "data": {
            "text/plain": [
              "<Figure size 640x480 with 1 Axes>"
            ],
            "image/png": "[encoded data removed]"
          },
          "metadata": {}
        }
      ]
    },
    {
      "cell_type": "code",
      "source": [
        "import numpy as np\n",
        "\n",
        "def detect_outliers_iqr(data):\n",
        "    q1 = np.percentile(data, 25)\n",
        "    q3 = np.percentile(data, 75)\n",
        "    iqr = q3 - q1\n",
        "    lower_bound = q1 - (1.5 * iqr)\n",
        "    upper_bound = q3 + (1.5 * iqr)\n",
        "\n",
        "    outliers = np.where((data < lower_bound) | (data > upper_bound))\n",
        "    return outliers[0]\n",
        "\n",
        "# Apply to the meditators' HFD values\n",
        "outliers_indices = detect_outliers_iqr(np.array(meditators_hfd))\n",
        "print(\"Outliers indices:\", outliers_indices)\n"
      ],
      "metadata": {
        "id": "RA3I8gkIGwSt",
        "colab": {
          "base_uri": "https://localhost:8080/"
        },
        "outputId": "db641425-c233-40c2-f096-a9555f4a1ea5"
      },
      "execution_count": 29,
      "outputs": [
        {
          "output_type": "stream",
          "name": "stdout",
          "text": [
            "Outliers indices: []\n"
          ]
        }
      ]
    },
    {
      "cell_type": "code",
      "source": [
        "from scipy import stats\n",
        "\n",
        "# Calculate z-scores of HFD values\n",
        "z_scores = np.abs(stats.zscore(meditators_hfd))\n",
        "\n",
        "# Get indices of potential outliers\n",
        "outliers_z = np.where(z_scores > 3)\n",
        "print(\"Outliers indices based on z-scores:\", outliers_z[0])\n"
      ],
      "metadata": {
        "colab": {
          "base_uri": "https://localhost:8080/"
        },
        "id": "N_YgKrx0z1O2",
        "outputId": "ce5d26db-e33e-4321-f351-a2212f7bb857"
      },
      "execution_count": 30,
      "outputs": [
        {
          "output_type": "stream",
          "name": "stdout",
          "text": [
            "Outliers indices based on z-scores: []\n"
          ]
        }
      ]
    },
    {
      "cell_type": "markdown",
      "source": [
        "# ลองทำ psd welch ดู"
      ],
      "metadata": {
        "id": "It6uIiSf40Bk"
      }
    },
    {
      "cell_type": "code",
      "source": [
        "import mne\n",
        "import numpy as np\n",
        "from scipy.stats import ttest_ind\n",
        "\n",
        "\n",
        "\n",
        "def compute_psd(raws, fmin, fmax, n_fft):\n",
        "    psds = []\n",
        "    for raw in raws:\n",
        "        # Extract data from the Raw object\n",
        "        data, times = raw[:, :]\n",
        "        # Compute PSD\n",
        "        psd, freqs = mne.time_frequency.psd_array_welch(data, sfreq, fmin=fmin, fmax=fmax, n_fft=n_fft)\n",
        "        psds.append(psd)\n",
        "    return np.array(psds), freqs\n",
        "\n",
        "# Define power bands\n",
        "bands = {\n",
        "    'Delta': (0.5, 4),\n",
        "    'Theta': (4, 8),\n",
        "    'Alpha': (8, 12),\n",
        "    'Beta': (12, 30),\n",
        "    'Gamma': (30, 45)\n",
        "}\n",
        "\n",
        "n_fft = 2048\n",
        "\n",
        "# Dictionary to hold the comparison results\n",
        "comparison_results = {}\n",
        "\n",
        "# Compute PSDs and compare each band\n",
        "for band, (fmin, fmax) in bands.items():\n",
        "    meditators_psds, freqs = compute_psd(meditators_raws, fmin, fmax, n_fft)\n",
        "    novices_psds, freqs = compute_psd(novices_raws, fmin, fmax, n_fft)\n",
        "\n",
        "    # Average the power bands for each group\n",
        "    meditators_avg_psd = np.mean(meditators_psds, axis=1)\n",
        "    novices_avg_psd = np.mean(novices_psds, axis=1)\n",
        "\n",
        "    # Perform t-test between groups\n",
        "    t_stat, p_value = ttest_ind(meditators_avg_psd, novices_avg_psd)\n",
        "\n",
        "    # Store the results\n",
        "    comparison_results[band] = {\n",
        "        't_stat': t_stat,\n",
        "        'p_value': p_value\n",
        "    }\n",
        "\n",
        "# Define a significance level\n",
        "alpha = 0.05\n",
        "\n",
        "# Print out the comparison results with significance statement\n",
        "for band, results in comparison_results.items():\n",
        "    t_stat = np.mean(results['t_stat']) if isinstance(results['t_stat'], np.ndarray) else results['t_stat']\n",
        "    p_value = np.mean(results['p_value']) if isinstance(results['p_value'], np.ndarray) else results['p_value']\n",
        "\n",
        "    print(f\"{band} band: t-statistic = {t_stat:.3f}, p-value = {p_value:.3f}\")\n",
        "    # Check if the result is significant\n",
        "    if p_value < alpha:\n",
        "        print(f\"The difference in {band} band power between meditators and novices is statistically significant.\\n\")\n",
        "    else:\n",
        "        print(f\"No significant difference in {band} band power between meditators and novices was found.\\n\")\n"
      ],
      "metadata": {
        "colab": {
          "base_uri": "https://localhost:8080/"
        },
        "id": "U7O0im2b9ecI",
        "outputId": "a8736acb-b5df-4483-cd24-e016fe405da3"
      },
      "execution_count": 41,
      "outputs": [
        {
          "output_type": "stream",
          "name": "stdout",
          "text": [
            "Effective window size : 8.192 (s)\n",
            "Effective window size : 8.192 (s)\n",
            "Effective window size : 8.192 (s)\n",
            "Effective window size : 8.192 (s)\n",
            "Effective window size : 8.192 (s)\n",
            "Effective window size : 8.192 (s)\n",
            "Effective window size : 8.192 (s)\n",
            "Effective window size : 8.192 (s)\n",
            "Effective window size : 8.192 (s)\n",
            "Effective window size : 8.192 (s)\n",
            "Effective window size : 8.192 (s)\n",
            "Effective window size : 8.192 (s)\n",
            "Effective window size : 8.192 (s)\n",
            "Effective window size : 8.192 (s)\n",
            "Effective window size : 8.192 (s)\n",
            "Effective window size : 8.192 (s)\n",
            "Effective window size : 8.192 (s)\n",
            "Effective window size : 8.192 (s)\n",
            "Effective window size : 8.192 (s)\n",
            "Effective window size : 8.192 (s)\n",
            "Effective window size : 8.192 (s)\n",
            "Effective window size : 8.192 (s)\n",
            "Effective window size : 8.192 (s)\n",
            "Effective window size : 8.192 (s)\n",
            "Effective window size : 8.192 (s)\n",
            "Effective window size : 8.192 (s)\n",
            "Effective window size : 8.192 (s)\n",
            "Effective window size : 8.192 (s)\n",
            "Effective window size : 8.192 (s)\n",
            "Effective window size : 8.192 (s)\n",
            "Effective window size : 8.192 (s)\n",
            "Effective window size : 8.192 (s)\n",
            "Effective window size : 8.192 (s)\n",
            "Effective window size : 8.192 (s)\n",
            "Effective window size : 8.192 (s)\n",
            "Effective window size : 8.192 (s)\n",
            "Effective window size : 8.192 (s)\n",
            "Effective window size : 8.192 (s)\n",
            "Effective window size : 8.192 (s)\n",
            "Effective window size : 8.192 (s)\n",
            "Effective window size : 8.192 (s)\n",
            "Effective window size : 8.192 (s)\n",
            "Effective window size : 8.192 (s)\n",
            "Effective window size : 8.192 (s)\n",
            "Effective window size : 8.192 (s)\n",
            "Effective window size : 8.192 (s)\n",
            "Effective window size : 8.192 (s)\n",
            "Effective window size : 8.192 (s)\n",
            "Effective window size : 8.192 (s)\n",
            "Effective window size : 8.192 (s)\n",
            "Effective window size : 8.192 (s)\n",
            "Effective window size : 8.192 (s)\n",
            "Effective window size : 8.192 (s)\n",
            "Effective window size : 8.192 (s)\n",
            "Effective window size : 8.192 (s)\n",
            "Effective window size : 8.192 (s)\n",
            "Effective window size : 8.192 (s)\n",
            "Effective window size : 8.192 (s)\n",
            "Effective window size : 8.192 (s)\n",
            "Effective window size : 8.192 (s)\n",
            "Effective window size : 8.192 (s)\n",
            "Effective window size : 8.192 (s)\n",
            "Effective window size : 8.192 (s)\n",
            "Effective window size : 8.192 (s)\n",
            "Effective window size : 8.192 (s)\n",
            "Effective window size : 8.192 (s)\n",
            "Effective window size : 8.192 (s)\n",
            "Effective window size : 8.192 (s)\n",
            "Effective window size : 8.192 (s)\n",
            "Effective window size : 8.192 (s)\n",
            "Effective window size : 8.192 (s)\n",
            "Effective window size : 8.192 (s)\n",
            "Effective window size : 8.192 (s)\n",
            "Effective window size : 8.192 (s)\n",
            "Effective window size : 8.192 (s)\n",
            "Effective window size : 8.192 (s)\n",
            "Effective window size : 8.192 (s)\n",
            "Effective window size : 8.192 (s)\n",
            "Effective window size : 8.192 (s)\n",
            "Effective window size : 8.192 (s)\n",
            "Effective window size : 8.192 (s)\n",
            "Effective window size : 8.192 (s)\n",
            "Effective window size : 8.192 (s)\n",
            "Effective window size : 8.192 (s)\n",
            "Effective window size : 8.192 (s)\n",
            "Effective window size : 8.192 (s)\n",
            "Effective window size : 8.192 (s)\n",
            "Effective window size : 8.192 (s)\n",
            "Effective window size : 8.192 (s)\n",
            "Effective window size : 8.192 (s)\n",
            "Effective window size : 8.192 (s)\n",
            "Effective window size : 8.192 (s)\n",
            "Effective window size : 8.192 (s)\n",
            "Effective window size : 8.192 (s)\n",
            "Effective window size : 8.192 (s)\n",
            "Effective window size : 8.192 (s)\n",
            "Effective window size : 8.192 (s)\n",
            "Effective window size : 8.192 (s)\n",
            "Effective window size : 8.192 (s)\n",
            "Effective window size : 8.192 (s)\n",
            "Delta band: t-statistic = -0.909, p-value = 0.422\n",
            "No significant difference in Delta band power between meditators and novices was found.\n",
            "\n",
            "Theta band: t-statistic = -0.813, p-value = 0.464\n",
            "No significant difference in Theta band power between meditators and novices was found.\n",
            "\n",
            "Alpha band: t-statistic = -0.206, p-value = 0.522\n",
            "No significant difference in Alpha band power between meditators and novices was found.\n",
            "\n",
            "Beta band: t-statistic = 1.874, p-value = 0.182\n",
            "No significant difference in Beta band power between meditators and novices was found.\n",
            "\n",
            "Gamma band: t-statistic = 1.268, p-value = 0.251\n",
            "No significant difference in Gamma band power between meditators and novices was found.\n",
            "\n"
          ]
        }
      ]
    },
    {
      "cell_type": "code",
      "source": [
        "import matplotlib.pyplot as plt\n",
        "\n",
        "\n",
        "avg_psds = {band: {'meditators': [], 'novices': []} for band in bands.keys()}\n",
        "for band in bands.keys():\n",
        "    # Compute average PSD across all meditators and all novices for the band\n",
        "    avg_psds[band]['meditators'] = np.mean([np.mean(psd) for psd in compute_psd(meditators_raws, *bands[band], n_fft)[0]], axis=0)\n",
        "    avg_psds[band]['novices'] = np.mean([np.mean(psd) for psd in compute_psd(novices_raws, *bands[band], n_fft)[0]], axis=0)\n",
        "\n",
        "# Create a bar plot for each band\n",
        "fig, ax = plt.subplots(figsize=(10, 6))\n",
        "bar_width = 0.35\n",
        "index = np.arange(len(bands))\n",
        "\n",
        "bar1 = ax.bar(index, [avg_psds[band]['meditators'] for band in bands.keys()], bar_width, label='Meditators')\n",
        "bar2 = ax.bar(index + bar_width, [avg_psds[band]['novices'] for band in bands.keys()], bar_width, label='Novices')\n",
        "\n",
        "# Add significance indicators\n",
        "for i, band in enumerate(bands.keys()):\n",
        "    # Handle the case where p_value is an array\n",
        "    p_value = comparison_results[band]['p_value']\n",
        "    if isinstance(p_value, np.ndarray):\n",
        "        p_value = p_value.min()  # or .max(), .mean(), etc., depending on the desired logic\n",
        "    if p_value < 0.05:\n",
        "        ax.text(i + bar_width / 2, max(avg_psds[band]['meditators'], avg_psds[band]['novices']), '*', ha='center', va='bottom', color='red', fontsize=14)\n",
        "\n",
        "ax.set_xlabel('Frequency Band')\n",
        "ax.set_ylabel('Average PSD (µV²/Hz)')\n",
        "ax.set_title('Average Power Spectral Density by Frequency Band')\n",
        "ax.set_xticks(index + bar_width / 2)\n",
        "ax.set_xticklabels(bands.keys())\n",
        "ax.legend()\n",
        "\n",
        "plt.tight_layout()\n",
        "plt.show()\n"
      ],
      "metadata": {
        "colab": {
          "base_uri": "https://localhost:8080/",
          "height": 1000
        },
        "id": "p4nISUqM9Tnl",
        "outputId": "1e963457-ca95-4653-b6ac-61236846b3ed"
      },
      "execution_count": 43,
      "outputs": [
        {
          "output_type": "stream",
          "name": "stdout",
          "text": [
            "Effective window size : 8.192 (s)\n",
            "Effective window size : 8.192 (s)\n",
            "Effective window size : 8.192 (s)\n",
            "Effective window size : 8.192 (s)\n",
            "Effective window size : 8.192 (s)\n",
            "Effective window size : 8.192 (s)\n",
            "Effective window size : 8.192 (s)\n",
            "Effective window size : 8.192 (s)\n",
            "Effective window size : 8.192 (s)\n",
            "Effective window size : 8.192 (s)\n",
            "Effective window size : 8.192 (s)\n",
            "Effective window size : 8.192 (s)\n",
            "Effective window size : 8.192 (s)\n",
            "Effective window size : 8.192 (s)\n",
            "Effective window size : 8.192 (s)\n",
            "Effective window size : 8.192 (s)\n",
            "Effective window size : 8.192 (s)\n",
            "Effective window size : 8.192 (s)\n",
            "Effective window size : 8.192 (s)\n",
            "Effective window size : 8.192 (s)\n",
            "Effective window size : 8.192 (s)\n",
            "Effective window size : 8.192 (s)\n",
            "Effective window size : 8.192 (s)\n",
            "Effective window size : 8.192 (s)\n",
            "Effective window size : 8.192 (s)\n",
            "Effective window size : 8.192 (s)\n",
            "Effective window size : 8.192 (s)\n",
            "Effective window size : 8.192 (s)\n",
            "Effective window size : 8.192 (s)\n",
            "Effective window size : 8.192 (s)\n",
            "Effective window size : 8.192 (s)\n",
            "Effective window size : 8.192 (s)\n",
            "Effective window size : 8.192 (s)\n",
            "Effective window size : 8.192 (s)\n",
            "Effective window size : 8.192 (s)\n",
            "Effective window size : 8.192 (s)\n",
            "Effective window size : 8.192 (s)\n",
            "Effective window size : 8.192 (s)\n",
            "Effective window size : 8.192 (s)\n",
            "Effective window size : 8.192 (s)\n",
            "Effective window size : 8.192 (s)\n",
            "Effective window size : 8.192 (s)\n",
            "Effective window size : 8.192 (s)\n",
            "Effective window size : 8.192 (s)\n",
            "Effective window size : 8.192 (s)\n",
            "Effective window size : 8.192 (s)\n",
            "Effective window size : 8.192 (s)\n",
            "Effective window size : 8.192 (s)\n",
            "Effective window size : 8.192 (s)\n",
            "Effective window size : 8.192 (s)\n",
            "Effective window size : 8.192 (s)\n",
            "Effective window size : 8.192 (s)\n",
            "Effective window size : 8.192 (s)\n",
            "Effective window size : 8.192 (s)\n",
            "Effective window size : 8.192 (s)\n",
            "Effective window size : 8.192 (s)\n",
            "Effective window size : 8.192 (s)\n",
            "Effective window size : 8.192 (s)\n",
            "Effective window size : 8.192 (s)\n",
            "Effective window size : 8.192 (s)\n",
            "Effective window size : 8.192 (s)\n",
            "Effective window size : 8.192 (s)\n",
            "Effective window size : 8.192 (s)\n",
            "Effective window size : 8.192 (s)\n",
            "Effective window size : 8.192 (s)\n",
            "Effective window size : 8.192 (s)\n",
            "Effective window size : 8.192 (s)\n",
            "Effective window size : 8.192 (s)\n",
            "Effective window size : 8.192 (s)\n",
            "Effective window size : 8.192 (s)\n",
            "Effective window size : 8.192 (s)\n",
            "Effective window size : 8.192 (s)\n",
            "Effective window size : 8.192 (s)\n",
            "Effective window size : 8.192 (s)\n",
            "Effective window size : 8.192 (s)\n",
            "Effective window size : 8.192 (s)\n",
            "Effective window size : 8.192 (s)\n",
            "Effective window size : 8.192 (s)\n",
            "Effective window size : 8.192 (s)\n",
            "Effective window size : 8.192 (s)\n",
            "Effective window size : 8.192 (s)\n",
            "Effective window size : 8.192 (s)\n",
            "Effective window size : 8.192 (s)\n",
            "Effective window size : 8.192 (s)\n",
            "Effective window size : 8.192 (s)\n",
            "Effective window size : 8.192 (s)\n",
            "Effective window size : 8.192 (s)\n",
            "Effective window size : 8.192 (s)\n",
            "Effective window size : 8.192 (s)\n",
            "Effective window size : 8.192 (s)\n",
            "Effective window size : 8.192 (s)\n",
            "Effective window size : 8.192 (s)\n",
            "Effective window size : 8.192 (s)\n",
            "Effective window size : 8.192 (s)\n",
            "Effective window size : 8.192 (s)\n",
            "Effective window size : 8.192 (s)\n",
            "Effective window size : 8.192 (s)\n",
            "Effective window size : 8.192 (s)\n",
            "Effective window size : 8.192 (s)\n",
            "Effective window size : 8.192 (s)\n"
          ]
        },
        {
          "output_type": "display_data",
          "data": {
            "text/plain": [
              "<Figure size 1000x600 with 1 Axes>"
            ],
            "image/png": "[encoded data removed]"
          },
          "metadata": {}
        }
      ]
    }
  ]
}