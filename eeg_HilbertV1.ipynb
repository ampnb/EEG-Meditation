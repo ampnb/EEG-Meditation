{
  "nbformat": 4,
  "nbformat_minor": 0,
  "metadata": {
    "colab": {
      "provenance": [],
      "machine_shape": "hm",
      "gpuType": "A100",
      "authorship_tag": "ABX9TyMUqCf1LodKsYF8wKLnvN4m"
    },
    "kernelspec": {
      "name": "python3",
      "display_name": "Python 3"
    },
    "language_info": {
      "name": "python"
    },
    "accelerator": "GPU"
  },
  "cells": [
    {
      "cell_type": "code",
      "source": [
        "!gdown --id 1tf3y7AsGztdlYR07QJM_2bQXm9OTqkCg"
      ],
      "metadata": {
        "id": "fMKIjlmIhOkT"
      },
      "execution_count": null,
      "outputs": []
    },
    {
      "cell_type": "code",
      "source": [
        "!gdown --id 1L8vitrcQw7iu8XmBEofkVnKVHOR5K6Q7"
      ],
      "metadata": {
        "id": "5_VbuA9KfTz6"
      },
      "execution_count": null,
      "outputs": []
    },
    {
      "cell_type": "code",
      "source": [
        "!unzip -o sunday-meditator.zip"
      ],
      "metadata": {
        "id": "zqdn0oL223AC"
      },
      "execution_count": null,
      "outputs": []
    },
    {
      "cell_type": "code",
      "source": [
        "!unzip -o sunday-non-meditator.zip"
      ],
      "metadata": {
        "id": "MIceNhpmhX-z"
      },
      "execution_count": null,
      "outputs": []
    },
    {
      "cell_type": "code",
      "source": [
        "!pip install -U mne"
      ],
      "metadata": {
        "id": "tOYjvz27xyO_"
      },
      "execution_count": null,
      "outputs": []
    },
    {
      "cell_type": "code",
      "source": [
        "import mne\n",
        "import numpy as np\n",
        "import os\n",
        "from scipy.signal import hilbert\n",
        "from scipy.stats import ttest_ind\n",
        "import matplotlib.pyplot as plt"
      ],
      "metadata": {
        "id": "NQ1wiIEhgEJ_"
      },
      "execution_count": 18,
      "outputs": []
    },
    {
      "cell_type": "code",
      "source": [
        "meditator_data_path = '/content/sunday-meditator'\n",
        "non_meditator_data_path = '/content/sunday-non-meditator'\n",
        "sfreq = 512  # Sampling frequency\n"
      ],
      "metadata": {
        "id": "Zk1wWpgExNlr"
      },
      "execution_count": 31,
      "outputs": []
    },
    {
      "cell_type": "markdown",
      "source": [
        "# Load and Process EEG Data"
      ],
      "metadata": {
        "id": "lRH7outw8hPg"
      }
    },
    {
      "cell_type": "code",
      "source": [
        "def load_and_trim(data_path, target_length=3600):\n",
        "    all_envelopes = []\n",
        "    for file_name in sorted(os.listdir(data_path)):\n",
        "        if not file_name.endswith('.fif'):\n",
        "            continue\n",
        "        file_path = os.path.join(data_path, file_name)\n",
        "        raw = mne.io.read_raw_fif(file_path, preload=True, verbose=False)\n",
        "        raw.crop(tmax=target_length - 1/raw.info['sfreq'])  # Adjusting to ensure consistency\n",
        "        all_envelopes.append(raw)\n",
        "    return all_envelopes\n",
        "\n",
        "meditator_raws = load_and_trim(meditator_data_path)\n",
        "non_meditator_raws = load_and_trim(non_meditator_data_path)"
      ],
      "metadata": {
        "colab": {
          "base_uri": "https://localhost:8080/"
        },
        "id": "KDVuJa6B8gUx",
        "outputId": "5bf62997-4ad0-46e4-cf6c-561534b1e331"
      },
      "execution_count": 32,
      "outputs": [
        {
          "output_type": "stream",
          "name": "stderr",
          "text": [
            "<ipython-input-32-dc2b6d18a98c>:7: RuntimeWarning: This filename (/content/sunday-meditator/med_01.fif) does not conform to MNE naming conventions. All raw files should end with raw.fif, raw_sss.fif, raw_tsss.fif, _meg.fif, _eeg.fif, _ieeg.fif, raw.fif.gz, raw_sss.fif.gz, raw_tsss.fif.gz, _meg.fif.gz, _eeg.fif.gz or _ieeg.fif.gz\n",
            "  raw = mne.io.read_raw_fif(file_path, preload=True, verbose=False)\n",
            "<ipython-input-32-dc2b6d18a98c>:7: RuntimeWarning: This filename (/content/sunday-meditator/med_02.fif) does not conform to MNE naming conventions. All raw files should end with raw.fif, raw_sss.fif, raw_tsss.fif, _meg.fif, _eeg.fif, _ieeg.fif, raw.fif.gz, raw_sss.fif.gz, raw_tsss.fif.gz, _meg.fif.gz, _eeg.fif.gz or _ieeg.fif.gz\n",
            "  raw = mne.io.read_raw_fif(file_path, preload=True, verbose=False)\n",
            "<ipython-input-32-dc2b6d18a98c>:7: RuntimeWarning: This filename (/content/sunday-meditator/med_03.fif) does not conform to MNE naming conventions. All raw files should end with raw.fif, raw_sss.fif, raw_tsss.fif, _meg.fif, _eeg.fif, _ieeg.fif, raw.fif.gz, raw_sss.fif.gz, raw_tsss.fif.gz, _meg.fif.gz, _eeg.fif.gz or _ieeg.fif.gz\n",
            "  raw = mne.io.read_raw_fif(file_path, preload=True, verbose=False)\n",
            "<ipython-input-32-dc2b6d18a98c>:7: RuntimeWarning: This filename (/content/sunday-meditator/med_04.fif) does not conform to MNE naming conventions. All raw files should end with raw.fif, raw_sss.fif, raw_tsss.fif, _meg.fif, _eeg.fif, _ieeg.fif, raw.fif.gz, raw_sss.fif.gz, raw_tsss.fif.gz, _meg.fif.gz, _eeg.fif.gz or _ieeg.fif.gz\n",
            "  raw = mne.io.read_raw_fif(file_path, preload=True, verbose=False)\n",
            "<ipython-input-32-dc2b6d18a98c>:7: RuntimeWarning: This filename (/content/sunday-meditator/med_05.fif) does not conform to MNE naming conventions. All raw files should end with raw.fif, raw_sss.fif, raw_tsss.fif, _meg.fif, _eeg.fif, _ieeg.fif, raw.fif.gz, raw_sss.fif.gz, raw_tsss.fif.gz, _meg.fif.gz, _eeg.fif.gz or _ieeg.fif.gz\n",
            "  raw = mne.io.read_raw_fif(file_path, preload=True, verbose=False)\n",
            "<ipython-input-32-dc2b6d18a98c>:7: RuntimeWarning: This filename (/content/sunday-meditator/med_07.fif) does not conform to MNE naming conventions. All raw files should end with raw.fif, raw_sss.fif, raw_tsss.fif, _meg.fif, _eeg.fif, _ieeg.fif, raw.fif.gz, raw_sss.fif.gz, raw_tsss.fif.gz, _meg.fif.gz, _eeg.fif.gz or _ieeg.fif.gz\n",
            "  raw = mne.io.read_raw_fif(file_path, preload=True, verbose=False)\n",
            "<ipython-input-32-dc2b6d18a98c>:7: RuntimeWarning: This filename (/content/sunday-meditator/med_08.fif) does not conform to MNE naming conventions. All raw files should end with raw.fif, raw_sss.fif, raw_tsss.fif, _meg.fif, _eeg.fif, _ieeg.fif, raw.fif.gz, raw_sss.fif.gz, raw_tsss.fif.gz, _meg.fif.gz, _eeg.fif.gz or _ieeg.fif.gz\n",
            "  raw = mne.io.read_raw_fif(file_path, preload=True, verbose=False)\n",
            "<ipython-input-32-dc2b6d18a98c>:7: RuntimeWarning: This filename (/content/sunday-meditator/med_09.fif) does not conform to MNE naming conventions. All raw files should end with raw.fif, raw_sss.fif, raw_tsss.fif, _meg.fif, _eeg.fif, _ieeg.fif, raw.fif.gz, raw_sss.fif.gz, raw_tsss.fif.gz, _meg.fif.gz, _eeg.fif.gz or _ieeg.fif.gz\n",
            "  raw = mne.io.read_raw_fif(file_path, preload=True, verbose=False)\n",
            "<ipython-input-32-dc2b6d18a98c>:7: RuntimeWarning: This filename (/content/sunday-meditator/med_10.fif) does not conform to MNE naming conventions. All raw files should end with raw.fif, raw_sss.fif, raw_tsss.fif, _meg.fif, _eeg.fif, _ieeg.fif, raw.fif.gz, raw_sss.fif.gz, raw_tsss.fif.gz, _meg.fif.gz, _eeg.fif.gz or _ieeg.fif.gz\n",
            "  raw = mne.io.read_raw_fif(file_path, preload=True, verbose=False)\n",
            "<ipython-input-32-dc2b6d18a98c>:7: RuntimeWarning: This filename (/content/sunday-non-meditator/non_01.fif) does not conform to MNE naming conventions. All raw files should end with raw.fif, raw_sss.fif, raw_tsss.fif, _meg.fif, _eeg.fif, _ieeg.fif, raw.fif.gz, raw_sss.fif.gz, raw_tsss.fif.gz, _meg.fif.gz, _eeg.fif.gz or _ieeg.fif.gz\n",
            "  raw = mne.io.read_raw_fif(file_path, preload=True, verbose=False)\n",
            "<ipython-input-32-dc2b6d18a98c>:7: RuntimeWarning: This filename (/content/sunday-non-meditator/non_02.fif) does not conform to MNE naming conventions. All raw files should end with raw.fif, raw_sss.fif, raw_tsss.fif, _meg.fif, _eeg.fif, _ieeg.fif, raw.fif.gz, raw_sss.fif.gz, raw_tsss.fif.gz, _meg.fif.gz, _eeg.fif.gz or _ieeg.fif.gz\n",
            "  raw = mne.io.read_raw_fif(file_path, preload=True, verbose=False)\n",
            "<ipython-input-32-dc2b6d18a98c>:7: RuntimeWarning: This filename (/content/sunday-non-meditator/non_03.fif) does not conform to MNE naming conventions. All raw files should end with raw.fif, raw_sss.fif, raw_tsss.fif, _meg.fif, _eeg.fif, _ieeg.fif, raw.fif.gz, raw_sss.fif.gz, raw_tsss.fif.gz, _meg.fif.gz, _eeg.fif.gz or _ieeg.fif.gz\n",
            "  raw = mne.io.read_raw_fif(file_path, preload=True, verbose=False)\n",
            "<ipython-input-32-dc2b6d18a98c>:7: RuntimeWarning: This filename (/content/sunday-non-meditator/non_04.fif) does not conform to MNE naming conventions. All raw files should end with raw.fif, raw_sss.fif, raw_tsss.fif, _meg.fif, _eeg.fif, _ieeg.fif, raw.fif.gz, raw_sss.fif.gz, raw_tsss.fif.gz, _meg.fif.gz, _eeg.fif.gz or _ieeg.fif.gz\n",
            "  raw = mne.io.read_raw_fif(file_path, preload=True, verbose=False)\n",
            "<ipython-input-32-dc2b6d18a98c>:7: RuntimeWarning: This filename (/content/sunday-non-meditator/non_05.fif) does not conform to MNE naming conventions. All raw files should end with raw.fif, raw_sss.fif, raw_tsss.fif, _meg.fif, _eeg.fif, _ieeg.fif, raw.fif.gz, raw_sss.fif.gz, raw_tsss.fif.gz, _meg.fif.gz, _eeg.fif.gz or _ieeg.fif.gz\n",
            "  raw = mne.io.read_raw_fif(file_path, preload=True, verbose=False)\n",
            "<ipython-input-32-dc2b6d18a98c>:7: RuntimeWarning: This filename (/content/sunday-non-meditator/non_06.fif) does not conform to MNE naming conventions. All raw files should end with raw.fif, raw_sss.fif, raw_tsss.fif, _meg.fif, _eeg.fif, _ieeg.fif, raw.fif.gz, raw_sss.fif.gz, raw_tsss.fif.gz, _meg.fif.gz, _eeg.fif.gz or _ieeg.fif.gz\n",
            "  raw = mne.io.read_raw_fif(file_path, preload=True, verbose=False)\n",
            "<ipython-input-32-dc2b6d18a98c>:7: RuntimeWarning: This filename (/content/sunday-non-meditator/non_07.fif) does not conform to MNE naming conventions. All raw files should end with raw.fif, raw_sss.fif, raw_tsss.fif, _meg.fif, _eeg.fif, _ieeg.fif, raw.fif.gz, raw_sss.fif.gz, raw_tsss.fif.gz, _meg.fif.gz, _eeg.fif.gz or _ieeg.fif.gz\n",
            "  raw = mne.io.read_raw_fif(file_path, preload=True, verbose=False)\n",
            "<ipython-input-32-dc2b6d18a98c>:7: RuntimeWarning: This filename (/content/sunday-non-meditator/non_08.fif) does not conform to MNE naming conventions. All raw files should end with raw.fif, raw_sss.fif, raw_tsss.fif, _meg.fif, _eeg.fif, _ieeg.fif, raw.fif.gz, raw_sss.fif.gz, raw_tsss.fif.gz, _meg.fif.gz, _eeg.fif.gz or _ieeg.fif.gz\n",
            "  raw = mne.io.read_raw_fif(file_path, preload=True, verbose=False)\n",
            "<ipython-input-32-dc2b6d18a98c>:7: RuntimeWarning: This filename (/content/sunday-non-meditator/non_09.fif) does not conform to MNE naming conventions. All raw files should end with raw.fif, raw_sss.fif, raw_tsss.fif, _meg.fif, _eeg.fif, _ieeg.fif, raw.fif.gz, raw_sss.fif.gz, raw_tsss.fif.gz, _meg.fif.gz, _eeg.fif.gz or _ieeg.fif.gz\n",
            "  raw = mne.io.read_raw_fif(file_path, preload=True, verbose=False)\n"
          ]
        }
      ]
    },
    {
      "cell_type": "code",
      "source": [
        "print(f\"Meditator samples: {len(meditator_raws[0])}, Non-Meditator samples: {len(non_meditator_raws[0])}\")\n"
      ],
      "metadata": {
        "colab": {
          "base_uri": "https://localhost:8080/"
        },
        "id": "AXd7Zbo88qDv",
        "outputId": "dae1bb9d-1c33-4eb8-f79d-a94a871b74a5"
      },
      "execution_count": 33,
      "outputs": [
        {
          "output_type": "stream",
          "name": "stdout",
          "text": [
            "Meditator samples: 900000, Non-Meditator samples: 900000\n"
          ]
        }
      ]
    },
    {
      "cell_type": "markdown",
      "source": [
        "# Hilbert transform and trim"
      ],
      "metadata": {
        "id": "YhOl5Vdr-jyF"
      }
    },
    {
      "cell_type": "code",
      "source": [
        "from scipy.signal import hilbert\n",
        "\n",
        "def apply_hilbert_and_trim(raws):\n",
        "    min_length = np.inf\n",
        "    envelopes = []\n",
        "    for raw in raws:\n",
        "        data, _ = raw[:]\n",
        "        envelope = np.abs(hilbert(data))\n",
        "        min_length = min(min_length, envelope.shape[1])\n",
        "        envelopes.append(envelope)\n",
        "    # Trim based on the shortest recording\n",
        "    trimmed_envelopes = [env[:, :min_length] for env in envelopes]\n",
        "    return trimmed_envelopes, min_length\n",
        "\n",
        "meditator_envelopes, med_min_length = apply_hilbert_and_trim(meditator_raws)\n",
        "non_meditator_envelopes, non_med_min_length = apply_hilbert_and_trim(non_meditator_raws)\n"
      ],
      "metadata": {
        "id": "pDi5PHTO4Dsv"
      },
      "execution_count": 34,
      "outputs": []
    },
    {
      "cell_type": "code",
      "source": [
        "print(f\"Shortest Meditator length: {med_min_length}, Shortest Non-Meditator length: {non_med_min_length}\")\n"
      ],
      "metadata": {
        "colab": {
          "base_uri": "https://localhost:8080/"
        },
        "id": "uVEwH0lX84RB",
        "outputId": "4ff831e5-cbbf-49aa-8f18-cf7abffc0a80"
      },
      "execution_count": 35,
      "outputs": [
        {
          "output_type": "stream",
          "name": "stdout",
          "text": [
            "Shortest Meditator length: 900000, Shortest Non-Meditator length: 900000\n"
          ]
        }
      ]
    },
    {
      "cell_type": "markdown",
      "source": [
        "# Calculate Average Amplitude Envelope"
      ],
      "metadata": {
        "id": "I_uAjw2a88c_"
      }
    },
    {
      "cell_type": "code",
      "source": [
        "def calculate_average_amplitude(envelopes):\n",
        "    avg_amplitude = np.mean([np.mean(env, axis=0) for env in envelopes], axis=0)\n",
        "    return avg_amplitude\n",
        "\n",
        "avg_amp_meditator = calculate_average_amplitude(meditator_envelopes)\n",
        "avg_amp_non_meditator = calculate_average_amplitude(non_meditator_envelopes)\n"
      ],
      "metadata": {
        "id": "-wcnDmdH84Tr"
      },
      "execution_count": 36,
      "outputs": []
    },
    {
      "cell_type": "markdown",
      "source": [
        "# Create the Times Array and Plot"
      ],
      "metadata": {
        "id": "SArzj6kd9DZ-"
      }
    },
    {
      "cell_type": "code",
      "source": [
        "# Use the shorter of the two lengths to ensure compatibility\n",
        "min_length = min(med_min_length, non_med_min_length)\n",
        "times = np.arange(min_length) / sfreq\n",
        "\n",
        "# Plotting\n",
        "plt.figure(figsize=(10, 6))\n",
        "plt.plot(times[:len(avg_amp_meditator)], avg_amp_meditator, label='Meditators')  # Ensure times is correctly indexed\n",
        "plt.plot(times[:len(avg_amp_non_meditator)], avg_amp_non_meditator, label='Non-Meditators', linestyle='--')\n",
        "plt.xlabel('Time (s)')\n",
        "plt.ylabel('Average Amplitude Envelope')\n",
        "plt.legend()\n",
        "plt.title('Comparison of Average Amplitude Envelope Between Meditators and Non-Meditators')\n",
        "plt.show()\n"
      ],
      "metadata": {
        "colab": {
          "base_uri": "https://localhost:8080/",
          "height": 564
        },
        "id": "3exvrRdb84Wq",
        "outputId": "f58a40fd-d21b-4d87-f5d6-d0da19c4a77d"
      },
      "execution_count": 37,
      "outputs": [
        {
          "output_type": "display_data",
          "data": {
            "text/plain": [
              "<Figure size 1000x600 with 1 Axes>"
            ],
            "image/png": "[encoded data removed]"
          },
          "metadata": {}
        }
      ]
    },
    {
      "cell_type": "code",
      "source": [
        "from scipy.stats import ttest_ind\n",
        "\n",
        "t_stat, p_val = ttest_ind(avg_amp_meditator, avg_amp_non_meditator)\n",
        "\n",
        "print(f\"T-statistic: {t_stat:.3f}, P-value: {p_val:.3g}\")\n",
        "if p_val < 0.05:\n",
        "    print(\"The difference in average amplitude envelope between meditators and non-meditators is statistically significant.\")\n",
        "else:\n",
        "    print(\"No significant difference in average amplitude envelope between meditators and non-meditators was found.\")\n"
      ],
      "metadata": {
        "colab": {
          "base_uri": "https://localhost:8080/"
        },
        "id": "eSAYFxa39BJv",
        "outputId": "96dc8f8d-c41a-4c36-abc5-da6e0a2ae023"
      },
      "execution_count": 38,
      "outputs": [
        {
          "output_type": "stream",
          "name": "stdout",
          "text": [
            "T-statistic: 5091.634, P-value: 0\n",
            "The difference in average amplitude envelope between meditators and non-meditators is statistically significant.\n"
          ]
        }
      ]
    },
    {
      "cell_type": "code",
      "source": [
        "# Exclude first and last 10 seconds (sfreq = 512 Hz)\n",
        "start_artifact = 10 * sfreq\n",
        "end_artifact = -10 * sfreq\n",
        "\n",
        "# Perform t-test without artifacts\n",
        "t_stat, p_val = ttest_ind(avg_amp_meditator[start_artifact:end_artifact],\n",
        "                          avg_amp_non_meditator[start_artifact:end_artifact])\n",
        "\n",
        "print(f\"T-statistic: {t_stat:.3f}, P-value: {p_val:.3g}\")\n",
        "if p_val < 0.05:\n",
        "    print(\"The difference is statistically significant.\")\n",
        "else:\n",
        "    print(\"The difference is not statistically significant.\")\n"
      ],
      "metadata": {
        "colab": {
          "base_uri": "https://localhost:8080/"
        },
        "id": "nsz51F1d9BMz",
        "outputId": "3c605ee3-09a0-491a-e98d-10dbe6314743"
      },
      "execution_count": 39,
      "outputs": [
        {
          "output_type": "stream",
          "name": "stdout",
          "text": [
            "T-statistic: 10227.622, P-value: 0\n",
            "The difference is statistically significant.\n"
          ]
        }
      ]
    },
    {
      "cell_type": "code",
      "source": [],
      "metadata": {
        "id": "uSKcbZTi9BP5"
      },
      "execution_count": null,
      "outputs": []
    }
  ]
}